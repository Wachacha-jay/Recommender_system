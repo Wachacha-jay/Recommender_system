{
 "cells": [
  {
   "cell_type": "markdown",
   "id": "9e7a4b11",
   "metadata": {},
   "source": [
    "\n",
    "### Data Exploration for MovieLens 100K Dataset\n",
    "============================================\n",
    "\n",
    "This notebook explores the MovieLens dataset to understand:\n",
    "- Rating distribution and patterns\n",
    "- User behavior\n",
    "- Item popularity\n",
    "- Data sparsity\n"
   ]
  },
  {
   "cell_type": "code",
   "execution_count": null,
   "id": "61ca9116",
   "metadata": {
    "vscode": {
     "languageId": "plaintext"
    }
   },
   "outputs": [],
   "source": [
    "\n",
    "# ============================================================================\n",
    "# Cell 2: Load Data\n",
    "# ============================================================================\n",
    "print(\"Loading MovieLens 100K dataset...\")\n",
    "loader = MovieLensLoader()\n",
    "\n",
    "# Download if needed\n",
    "loader.download_data()\n",
    "\n",
    "# Load datasets\n",
    "ratings = loader.load_ratings()\n",
    "movies = loader.load_movies()\n",
    "users = loader.load_users()\n",
    "\n",
    "print(\"\\n✓ Data loaded successfully\")\n"
   ]
  },
  {
   "cell_type": "code",
   "execution_count": null,
   "id": "a1cec5d9",
   "metadata": {
    "vscode": {
     "languageId": "plaintext"
    }
   },
   "outputs": [],
   "source": [
    "# ============================================================================\n",
    "# Cell 1: Imports and Setup\n",
    "# ============================================================================\n",
    "import sys\n",
    "sys.path.append('..')\n",
    "\n",
    "import pandas as pd\n",
    "import numpy as np\n",
    "import matplotlib.pyplot as plt\n",
    "import seaborn as sns\n",
    "from src.data_loader import MovieLensLoader\n",
    "from src.utils import (\n",
    "    plot_rating_distribution,\n",
    "    plot_sparsity_heatmap,\n",
    "    analyze_user_behavior,\n",
    "    analyze_item_popularity\n",
    ")\n",
    "\n",
    "# Styling\n",
    "plt.style.use('seaborn-v0_8-darkgrid')\n",
    "sns.set_palette(\"husl\")\n",
    "pd.set_option('display.max_columns', None)\n",
    "pd.set_option('display.max_rows', 100)\n",
    "\n",
    "print(\"✓ Imports successful\")\n"
   ]
  },
  {
   "cell_type": "code",
   "execution_count": null,
   "id": "479f824a",
   "metadata": {
    "vscode": {
     "languageId": "plaintext"
    }
   },
   "outputs": [],
   "source": [
    "# ============================================================================\n",
    "# Cell 3: Basic Statistics\n",
    "# ============================================================================\n",
    "print(\"=\"*70)\n",
    "print(\"DATASET OVERVIEW\")\n",
    "print(\"=\"*70)\n",
    "\n",
    "print(f\"\\n📊 Ratings Dataset\")\n",
    "print(f\"   Total ratings: {len(ratings):,}\")\n",
    "print(f\"   Unique users: {ratings['user_id'].nunique():,}\")\n",
    "print(f\"   Unique items: {ratings['item_id'].nunique():,}\")\n",
    "print(f\"   Rating range: {ratings['rating'].min()} - {ratings['rating'].max()}\")\n",
    "print(f\"   Average rating: {ratings['rating'].mean():.2f}\")\n",
    "print(f\"   Sparsity: {1 - len(ratings) / (ratings['user_id'].nunique() * ratings['item_id'].nunique()):.4f}\")\n",
    "\n",
    "print(f\"\\n🎬 Movies Dataset\")\n",
    "print(f\"   Total movies: {len(movies):,}\")\n",
    "print(f\"   Movies with genres: {movies['genres'].apply(len).gt(0).sum():,}\")\n",
    "\n",
    "print(f\"\\n👤 Users Dataset\")\n",
    "print(f\"   Total users: {len(users):,}\")\n",
    "print(f\"   Age range: {users['age'].min()} - {users['age'].max()}\")\n",
    "print(f\"   Gender distribution:\")\n",
    "print(users['gender'].value_counts())"
   ]
  },
  {
   "cell_type": "code",
   "execution_count": null,
   "id": "9a87e5ea",
   "metadata": {
    "vscode": {
     "languageId": "plaintext"
    }
   },
   "outputs": [],
   "source": [
    "# ============================================================================\n",
    "# Cell 4: Sample Data\n",
    "# ============================================================================\n",
    "print(\"\\n\" + \"=\"*70)\n",
    "print(\"SAMPLE DATA\")\n",
    "print(\"=\"*70)\n",
    "\n",
    "print(\"\\n📝 Sample Ratings:\")\n",
    "display(ratings.head(10))\n",
    "\n",
    "print(\"\\n🎬 Sample Movies:\")\n",
    "display(movies.head(10))\n",
    "\n",
    "print(\"\\n👤 Sample Users:\")\n",
    "display(users.head(10))\n"
   ]
  },
  {
   "cell_type": "code",
   "execution_count": null,
   "id": "5e83adfe",
   "metadata": {
    "vscode": {
     "languageId": "plaintext"
    }
   },
   "outputs": [],
   "source": [
    "# ============================================================================\n",
    "# Cell 5: Rating Distribution Analysis\n",
    "# ============================================================================\n",
    "print(\"\\n\" + \"=\"*70)\n",
    "print(\"RATING DISTRIBUTION ANALYSIS\")\n",
    "print(\"=\"*70)\n",
    "\n",
    "# Overall rating distribution\n",
    "print(\"\\n Rating value counts:\")\n",
    "print(ratings['rating'].value_counts().sort_index())\n",
    "\n",
    "# Plot rating distribution\n",
    "plot_rating_distribution(ratings)\n",
    "\n",
    "# Rating statistics\n",
    "print(\"\\n Rating statistics:\")\n",
    "print(ratings['rating'].describe())\n",
    "\n"
   ]
  },
  {
   "cell_type": "code",
   "execution_count": null,
   "id": "44976066",
   "metadata": {
    "vscode": {
     "languageId": "plaintext"
    }
   },
   "outputs": [],
   "source": [
    "# ============================================================================\n",
    "# Cell 6: User Behavior Analysis\n",
    "# ============================================================================\n",
    "print(\"\\n\" + \"=\"*70)\n",
    "print(\"USER BEHAVIOR ANALYSIS\")\n",
    "print(\"=\"*70)\n",
    "\n",
    "user_stats = analyze_user_behavior(ratings)\n",
    "\n",
    "# Display top active users\n",
    "print(\"\\n🏆 Top 10 Most Active Users:\")\n",
    "display(user_stats.nlargest(10, 'num_ratings'))\n",
    "\n",
    "# Display users with extreme rating patterns\n",
    "print(\"\\n😊 Most Generous Users (highest avg rating):\")\n",
    "display(user_stats.nlargest(10, 'avg_rating')[['num_ratings', 'avg_rating', 'std_rating']])\n",
    "\n",
    "print(\"\\n😠 Most Critical Users (lowest avg rating):\")\n",
    "display(user_stats.nsmallest(10, 'avg_rating')[['num_ratings', 'avg_rating', 'std_rating']])\n"
   ]
  },
  {
   "cell_type": "code",
   "execution_count": null,
   "id": "27e407ce",
   "metadata": {
    "vscode": {
     "languageId": "plaintext"
    }
   },
   "outputs": [],
   "source": [
    "# ============================================================================\n",
    "# Cell 7: Item Popularity Analysis\n",
    "# ============================================================================\n",
    "print(\"\\n\" + \"=\"*70)\n",
    "print(\"ITEM POPULARITY ANALYSIS\")\n",
    "print(\"=\"*70)\n",
    "\n",
    "item_stats = analyze_item_popularity(ratings)\n",
    "\n",
    "# Merge with movie titles\n",
    "item_stats_with_titles = item_stats.merge(\n",
    "    movies[['item_id', 'title']], \n",
    "    left_index=True, \n",
    "    right_on='item_id'\n",
    ")\n",
    "\n",
    "print(\"\\n🌟 Top 10 Most Popular Movies:\")\n",
    "display(item_stats_with_titles.nlargest(10, 'num_ratings')[\n",
    "    ['title', 'num_ratings', 'avg_rating']\n",
    "])\n",
    "\n",
    "print(\"\\n⭐ Top 10 Highest Rated Movies (min 50 ratings):\")\n",
    "popular_items = item_stats_with_titles[item_stats_with_titles['num_ratings'] >= 50]\n",
    "display(popular_items.nlargest(10, 'avg_rating')[\n",
    "    ['title', 'num_ratings', 'avg_rating']\n",
    "])\n"
   ]
  },
  {
   "cell_type": "code",
   "execution_count": null,
   "id": "7cd13722",
   "metadata": {
    "vscode": {
     "languageId": "plaintext"
    }
   },
   "outputs": [],
   "source": [
    "# ============================================================================\n",
    "# Cell 8: Genre Analysis\n",
    "# ============================================================================\n",
    "print(\"\\n\" + \"=\"*70)\n",
    "print(\"GENRE ANALYSIS\")\n",
    "print(\"=\"*70)\n",
    "\n",
    "# Extract all genres\n",
    "all_genres = []\n",
    "for genres_list in movies['genres']:\n",
    "    all_genres.extend(genres_list)\n",
    "\n",
    "genre_counts = pd.Series(all_genres).value_counts()\n",
    "\n",
    "print(\"\\n📊 Genre Distribution:\")\n",
    "print(genre_counts)\n",
    "\n",
    "# Plot genre distribution\n",
    "plt.figure(figsize=(12, 6))\n",
    "genre_counts.plot(kind='bar', color='teal', edgecolor='black')\n",
    "plt.title('Movie Genre Distribution', fontsize=14, fontweight='bold')\n",
    "plt.xlabel('Genre')\n",
    "plt.ylabel('Number of Movies')\n",
    "plt.xticks(rotation=45, ha='right')\n",
    "plt.grid(axis='y', alpha=0.3)\n",
    "plt.tight_layout()\n",
    "plt.show()\n",
    "\n",
    "# Genre popularity by ratings\n",
    "print(\"\\n⭐ Average Rating by Genre:\")\n",
    "genre_ratings = {}\n",
    "for idx, row in movies.iterrows():\n",
    "    item_ratings = ratings[ratings['item_id'] == row['item_id']]['rating']\n",
    "    for genre in row['genres']:\n",
    "        if genre not in genre_ratings:\n",
    "            genre_ratings[genre] = []\n",
    "        genre_ratings[genre].extend(item_ratings.tolist())\n",
    "\n",
    "genre_avg_ratings = {genre: np.mean(ratings_list) \n",
    "                     for genre, ratings_list in genre_ratings.items()}\n",
    "genre_avg_ratings = pd.Series(genre_avg_ratings).sort_values(ascending=False)\n",
    "\n",
    "print(genre_avg_ratings)\n",
    "\n",
    "plt.figure(figsize=(12, 6))\n",
    "genre_avg_ratings.plot(kind='bar', color='coral', edgecolor='black')\n",
    "plt.title('Average Rating by Genre', fontsize=14, fontweight='bold')\n",
    "plt.xlabel('Genre')\n",
    "plt.ylabel('Average Rating')\n",
    "plt.xticks(rotation=45, ha='right')\n",
    "plt.axhline(y=ratings['rating'].mean(), color='red', linestyle='--', \n",
    "            label=f'Overall Avg: {ratings[\"rating\"].mean():.2f}')\n",
    "plt.legend()\n",
    "plt.grid(axis='y', alpha=0.3)\n",
    "plt.tight_layout()\n",
    "plt.show()\n"
   ]
  },
  {
   "cell_type": "code",
   "execution_count": null,
   "id": "f1f4106e",
   "metadata": {
    "vscode": {
     "languageId": "plaintext"
    }
   },
   "outputs": [],
   "source": [
    "# ============================================================================\n",
    "# Cell 9: Sparsity Visualization\n",
    "# ============================================================================\n",
    "print(\"\\n\" + \"=\"*70)\n",
    "print(\"SPARSITY ANALYSIS\")\n",
    "print(\"=\"*70)\n",
    "\n",
    "# Calculate overall sparsity\n",
    "n_users = ratings['user_id'].nunique()\n",
    "n_items = ratings['item_id'].nunique()\n",
    "n_ratings = len(ratings)\n",
    "sparsity = 1 - (n_ratings / (n_users * n_items))\n",
    "\n",
    "print(f\"\\n Matrix dimensions: {n_users} users × {n_items} items\")\n",
    "print(f\" Total possible ratings: {n_users * n_items:,}\")\n",
    "print(f\" Actual ratings: {n_ratings:,}\")\n",
    "print(f\" Sparsity: {sparsity:.4%}\")\n",
    "print(f\" Density: {1-sparsity:.4%}\")\n",
    "\n",
    "# Visualize sparsity\n",
    "plot_sparsity_heatmap(ratings, sample_users=100, sample_items=100)\n",
    "\n"
   ]
  },
  {
   "cell_type": "code",
   "execution_count": null,
   "id": "7b83e265",
   "metadata": {
    "vscode": {
     "languageId": "plaintext"
    }
   },
   "outputs": [],
   "source": [
    "# ============================================================================\n",
    "# Cell 10: Temporal Patterns\n",
    "# ============================================================================\n",
    "print(\"\\n\" + \"=\"*70)\n",
    "print(\"TEMPORAL PATTERNS\")\n",
    "print(\"=\"*70)\n",
    "\n",
    "# Convert timestamp to datetime\n",
    "ratings['datetime'] = pd.to_datetime(ratings['timestamp'], unit='s')\n",
    "ratings['date'] = ratings['datetime'].dt.date\n",
    "ratings['year'] = ratings['datetime'].dt.year\n",
    "ratings['month'] = ratings['datetime'].dt.month\n",
    "ratings['day_of_week'] = ratings['datetime'].dt.day_name()\n",
    "\n",
    "print(f\"\\n📅 Date range: {ratings['datetime'].min()} to {ratings['datetime'].max()}\")\n",
    "\n",
    "# Ratings over time\n",
    "ratings_over_time = ratings.groupby('date').size()\n",
    "\n",
    "plt.figure(figsize=(14, 6))\n",
    "plt.plot(ratings_over_time.index, ratings_over_time.values, linewidth=1.5)\n",
    "plt.title('Ratings Over Time', fontsize=14, fontweight='bold')\n",
    "plt.xlabel('Date')\n",
    "plt.ylabel('Number of Ratings')\n",
    "plt.xticks(rotation=45)\n",
    "plt.grid(alpha=0.3)\n",
    "plt.tight_layout()\n",
    "plt.show()\n",
    "\n",
    "# Day of week pattern\n",
    "day_order = ['Monday', 'Tuesday', 'Wednesday', 'Thursday', 'Friday', 'Saturday', 'Sunday']\n",
    "day_counts = ratings['day_of_week'].value_counts().reindex(day_order)\n",
    "\n",
    "plt.figure(figsize=(10, 6))\n",
    "day_counts.plot(kind='bar', color='mediumpurple', edgecolor='black')\n",
    "plt.title('Ratings by Day of Week', fontsize=14, fontweight='bold')\n",
    "plt.xlabel('Day of Week')\n",
    "plt.ylabel('Number of Ratings')\n",
    "plt.xticks(rotation=45)\n",
    "plt.grid(axis='y', alpha=0.3)\n",
    "plt.tight_layout()\n",
    "plt.show()"
   ]
  },
  {
   "cell_type": "code",
   "execution_count": null,
   "id": "84869eed",
   "metadata": {
    "vscode": {
     "languageId": "plaintext"
    }
   },
   "outputs": [],
   "source": [
    "# ============================================================================\n",
    "# Cell 11: Cold Start Analysis\n",
    "# ============================================================================\n",
    "print(\"\\n\" + \"=\"*70)\n",
    "print(\"COLD START ANALYSIS\")\n",
    "print(\"=\"*70)\n",
    "\n",
    "# Users with few ratings (cold start users)\n",
    "user_rating_counts = ratings.groupby('user_id').size()\n",
    "cold_start_users = user_rating_counts[user_rating_counts < 20]\n",
    "\n",
    "print(f\"\\n Users with < 20 ratings: {len(cold_start_users)} ({len(cold_start_users)/len(user_rating_counts):.1%})\")\n",
    "\n",
    "# Items with few ratings (cold start items)\n",
    "item_rating_counts = ratings.groupby('item_id').size()\n",
    "cold_start_items = item_rating_counts[item_rating_counts < 5]\n",
    "\n",
    "print(f\" Items with < 5 ratings: {len(cold_start_items)} ({len(cold_start_items)/len(item_rating_counts):.1%})\")\n",
    "\n",
    "# Plot distribution\n",
    "fig, axes = plt.subplots(1, 2, figsize=(14, 5))\n",
    "\n",
    "# User ratings distribution\n",
    "axes[0].hist(user_rating_counts, bins=50, color='skyblue', edgecolor='black')\n",
    "axes[0].axvline(x=20, color='red', linestyle='--', linewidth=2, label='Cold Start Threshold')\n",
    "axes[0].set_title('Distribution of Ratings per User')\n",
    "axes[0].set_xlabel('Number of Ratings')\n",
    "axes[0].set_ylabel('Number of Users')\n",
    "axes[0].legend()\n",
    "axes[0].grid(alpha=0.3)\n",
    "\n",
    "# Item ratings distribution  \n",
    "axes[1].hist(item_rating_counts, bins=50, color='lightcoral', edgecolor='black')\n",
    "axes[1].axvline(x=5, color='red', linestyle='--', linewidth=2, label='Cold Start Threshold')\n",
    "axes[1].set_title('Distribution of Ratings per Item')\n",
    "axes[1].set_xlabel('Number of Ratings')\n",
    "axes[1].set_ylabel('Number of Items')\n",
    "axes[1].set_yscale('log')\n",
    "axes[1].legend()\n",
    "axes[1].grid(alpha=0.3)\n",
    "\n",
    "plt.tight_layout()\n",
    "plt.show()\n"
   ]
  },
  {
   "cell_type": "code",
   "execution_count": null,
   "id": "7b810852",
   "metadata": {
    "vscode": {
     "languageId": "plaintext"
    }
   },
   "outputs": [],
   "source": [
    "\n",
    "# ============================================================================\n",
    "# Cell 12: Key Insights Summary\n",
    "# ============================================================================\n",
    "print(\"\\n\" + \"=\"*70)\n",
    "print(\"KEY INSIGHTS\")\n",
    "print(\"=\"*70)\n",
    "\n",
    "insights = f\"\"\"\n",
    "📊 DATA CHARACTERISTICS:\n",
    "   • Dataset is highly sparse ({sparsity:.2%})\n",
    "   • Users rated an average of {user_rating_counts.mean():.1f} movies\n",
    "   • Items received an average of {item_rating_counts.mean():.1f} ratings\n",
    "   \n",
    "⭐ RATING PATTERNS:\n",
    "   • Most common rating: {ratings['rating'].mode()[0]}\n",
    "   • Average rating: {ratings['rating'].mean():.2f}\n",
    "   • Rating distribution is skewed towards positive ratings\n",
    "   \n",
    "❄️ COLD START CHALLENGES:\n",
    "   • {len(cold_start_users)/len(user_rating_counts):.1%} of users have < 20 ratings\n",
    "   • {len(cold_start_items)/len(item_rating_counts):.1%} of items have < 5 ratings\n",
    "   • Content-based methods may help with item cold start\n",
    "   \n",
    "🎭 GENRE INSIGHTS:\n",
    "   • Most common genre: {genre_counts.index[0]}\n",
    "   • Highest rated genre: {genre_avg_ratings.index[0]}\n",
    "   \n",
    "🚀 RECOMMENDATION STRATEGY:\n",
    "   • High sparsity suggests collaborative filtering may struggle\n",
    "   • Hybrid approach (CF + content-based) recommended\n",
    "   • Need to handle cold start for new users/items\n",
    "   • Consider popularity bias in evaluation\n",
    "\"\"\"\n",
    "\n",
    "print(insights)\n",
    "\n"
   ]
  },
  {
   "cell_type": "code",
   "execution_count": null,
   "id": "f432a177",
   "metadata": {
    "vscode": {
     "languageId": "plaintext"
    }
   },
   "outputs": [],
   "source": [
    "# ============================================================================\n",
    "# Cell 13: Save Processed Data\n",
    "# ============================================================================\n",
    "print(\"\\n\" + \"=\"*70)\n",
    "print(\"SAVING PROCESSED DATA\")\n",
    "print(\"=\"*70)\n",
    "\n",
    "# Save to processed directory\n",
    "import os\n",
    "os.makedirs('../data/processed', exist_ok=True)\n",
    "\n",
    "ratings.to_csv('../data/processed/ratings_with_datetime.csv', index=False)\n",
    "user_stats.to_csv('../data/processed/user_statistics.csv')\n",
    "item_stats.to_csv('../data/processed/item_statistics.csv')\n",
    "\n",
    "print(\"\\n✓ Processed data saved to data/processed/\")\n",
    "print(\"\\n✅ Data exploration complete!\")"
   ]
  }
 ],
 "metadata": {
  "language_info": {
   "name": "python"
  }
 },
 "nbformat": 4,
 "nbformat_minor": 5
}
